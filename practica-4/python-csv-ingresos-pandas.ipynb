{
 "cells": [
  {
   "cell_type": "markdown",
   "metadata": {},
   "source": [
    "# Análisis de los Presupuestos económicos (Ingresos 2018) del Ayuntamiento de Alcobendas"
   ]
  },
  {
   "cell_type": "markdown",
   "metadata": {},
   "source": [
    "## Instalación de las librerías con las que vamos a trabajar \n",
    "Según la [Universidad de Alcalá](https://www.master-data-scientist.com/pandas-herramienta-data-science/#:~:text=%C2%BFQu%C3%A9%20es%20pandas%3F,tablas%20num%C3%A9ricas%20y%20series%20temporales), en Computación y Ciencia de datos, Pandas es una biblioteca de software escrita como extensión de Numpy (biblioteca para el lenguaje de programación Python que da soporte para crear vectores y matrices grandes multidimensionales, junto con una gran colección de funciones matemáticas de alto nivel para operar con ellas) para manipulación y análisis de datos para el lenguaje de programación Python. En particular, ofrece estructuras de datos y operaciones para manipular tablas numéricas y series temporales."
   ]
  },
  {
   "cell_type": "code",
   "execution_count": 5,
   "metadata": {
    "scrolled": true
   },
   "outputs": [
    {
     "name": "stdout",
     "output_type": "stream",
     "text": [
      "Requirement already satisfied: pandas in /usr/local/lib/python3.8/dist-packages (1.3.1)\n",
      "Requirement already satisfied: pytz>=2017.3 in /usr/local/lib/python3.8/dist-packages (from pandas) (2020.4)\n",
      "Requirement already satisfied: numpy>=1.17.3 in /usr/local/lib/python3.8/dist-packages (from pandas) (1.21.1)\n",
      "Requirement already satisfied: python-dateutil>=2.7.3 in /usr/local/lib/python3.8/dist-packages (from pandas) (2.8.1)\n",
      "Requirement already satisfied: six>=1.5 in /usr/lib/python3/dist-packages (from python-dateutil>=2.7.3->pandas) (1.14.0)\n"
     ]
    }
   ],
   "source": [
    "!pip install pandas"
   ]
  },
  {
   "cell_type": "markdown",
   "metadata": {},
   "source": [
    "## Configuración de Pandas\n",
    "En primer lugar, se importa la librería Pandas y se renombra como \"pd\" para utilizarla en el resto de notebook:"
   ]
  },
  {
   "cell_type": "code",
   "execution_count": 7,
   "metadata": {},
   "outputs": [],
   "source": [
    "import pandas as pd "
   ]
  },
  {
   "cell_type": "markdown",
   "metadata": {},
   "source": [
    "## Creación de variables"
   ]
  },
  {
   "cell_type": "markdown",
   "metadata": {},
   "source": [
    "Tras haber importado la librería, mediante `=` se crea la variable que contiene los datos que se van a emplear:"
   ]
  },
  {
   "cell_type": "code",
   "execution_count": 12,
   "metadata": {},
   "outputs": [],
   "source": [
    "url_pres = \"https://datos.alcobendas.org/dataset/f1b27265-9654-447f-baef-2f3619a59baa/resource/93b1db99-c3ae-4596-b745-ae6924f05cad/download/ingresos.csv\""
   ]
  },
  {
   "cell_type": "markdown",
   "metadata": {},
   "source": [
    "A continuación, se comprueba la creación de dicha variable:"
   ]
  },
  {
   "cell_type": "code",
   "execution_count": 14,
   "metadata": {},
   "outputs": [
    {
     "data": {
      "text/plain": [
       "'https://datos.alcobendas.org/dataset/f1b27265-9654-447f-baef-2f3619a59baa/resource/93b1db99-c3ae-4596-b745-ae6924f05cad/download/ingresos.csv'"
      ]
     },
     "execution_count": 14,
     "metadata": {},
     "output_type": "execute_result"
    }
   ],
   "source": [
    "url_pres"
   ]
  },
  {
   "cell_type": "markdown",
   "metadata": {},
   "source": [
    "## Creación de un nuevo DataFrame\n",
    "Según [Datacarpentry](https://datacarpentry.org/python-ecology-lesson-es/02-starting-with-data/#:~:text=Un%20DataFrame%20es%20una%20estructura,de%20SQL%20o%20el%20data), un DataFrame es una estructura de datos con dos dimensiones en la cual se puede guardar datos de distintos tipos (como caractéres, enteros, valores de punto flotante, factores y más) en columnas. \n",
    "\n",
    "Una vez definida la nueva variable, se crea un nuevo DataFrame de Pandas: "
   ]
  },
  {
   "cell_type": "code",
   "execution_count": 17,
   "metadata": {},
   "outputs": [],
   "source": [
    "df = pd.read_csv(url_pres)"
   ]
  },
  {
   "cell_type": "markdown",
   "metadata": {},
   "source": [
    "A continuación, se expone el nuevo DataFrame:"
   ]
  },
  {
   "cell_type": "code",
   "execution_count": 18,
   "metadata": {},
   "outputs": [
    {
     "data": {
      "text/html": [
       "<div>\n",
       "<style scoped>\n",
       "    .dataframe tbody tr th:only-of-type {\n",
       "        vertical-align: middle;\n",
       "    }\n",
       "\n",
       "    .dataframe tbody tr th {\n",
       "        vertical-align: top;\n",
       "    }\n",
       "\n",
       "    .dataframe thead th {\n",
       "        text-align: right;\n",
       "    }\n",
       "</style>\n",
       "<table border=\"1\" class=\"dataframe\">\n",
       "  <thead>\n",
       "    <tr style=\"text-align: right;\">\n",
       "      <th></th>\n",
       "      <th>Código</th>\n",
       "      <th>Nombre</th>\n",
       "      <th>Crédito inicial del ejercicio</th>\n",
       "    </tr>\n",
       "  </thead>\n",
       "  <tbody>\n",
       "    <tr>\n",
       "      <th>0</th>\n",
       "      <td>1.0</td>\n",
       "      <td>IMPUESTOS DIRECTOS</td>\n",
       "      <td>76893259.18</td>\n",
       "    </tr>\n",
       "    <tr>\n",
       "      <th>1</th>\n",
       "      <td>10.0</td>\n",
       "      <td>Impuesto sobre la Renta</td>\n",
       "      <td>4994977.89</td>\n",
       "    </tr>\n",
       "    <tr>\n",
       "      <th>2</th>\n",
       "      <td>100.0</td>\n",
       "      <td>Impuestos sobre la Renta de las Personas Físicas</td>\n",
       "      <td>4994977.89</td>\n",
       "    </tr>\n",
       "    <tr>\n",
       "      <th>3</th>\n",
       "      <td>101.0</td>\n",
       "      <td>Impuesto sobre Sociedades</td>\n",
       "      <td>0.00</td>\n",
       "    </tr>\n",
       "    <tr>\n",
       "      <th>4</th>\n",
       "      <td>102.0</td>\n",
       "      <td>Impuesto sobre la Renta de No Residentes</td>\n",
       "      <td>0.00</td>\n",
       "    </tr>\n",
       "    <tr>\n",
       "      <th>...</th>\n",
       "      <td>...</td>\n",
       "      <td>...</td>\n",
       "      <td>...</td>\n",
       "    </tr>\n",
       "    <tr>\n",
       "      <th>324</th>\n",
       "      <td>930.0</td>\n",
       "      <td>Préstamos recibidos en moneda distinta del eur...</td>\n",
       "      <td>0.00</td>\n",
       "    </tr>\n",
       "    <tr>\n",
       "      <th>325</th>\n",
       "      <td>931.0</td>\n",
       "      <td>Préstamos recibidos en moneda distinta del eur...</td>\n",
       "      <td>0.00</td>\n",
       "    </tr>\n",
       "    <tr>\n",
       "      <th>326</th>\n",
       "      <td>94.0</td>\n",
       "      <td>Depósitos y fianzas recibidos</td>\n",
       "      <td>0.00</td>\n",
       "    </tr>\n",
       "    <tr>\n",
       "      <th>327</th>\n",
       "      <td>940.0</td>\n",
       "      <td>Depósitos recibidos</td>\n",
       "      <td>0.00</td>\n",
       "    </tr>\n",
       "    <tr>\n",
       "      <th>328</th>\n",
       "      <td>941.0</td>\n",
       "      <td>Fianzas recibidas</td>\n",
       "      <td>0.00</td>\n",
       "    </tr>\n",
       "  </tbody>\n",
       "</table>\n",
       "<p>329 rows × 3 columns</p>\n",
       "</div>"
      ],
      "text/plain": [
       "     Código                                             Nombre  \\\n",
       "0       1.0                                 IMPUESTOS DIRECTOS   \n",
       "1      10.0                            Impuesto sobre la Renta   \n",
       "2     100.0   Impuestos sobre la Renta de las Personas Físicas   \n",
       "3     101.0                          Impuesto sobre Sociedades   \n",
       "4     102.0           Impuesto sobre la Renta de No Residentes   \n",
       "..      ...                                                ...   \n",
       "324   930.0  Préstamos recibidos en moneda distinta del eur...   \n",
       "325   931.0  Préstamos recibidos en moneda distinta del eur...   \n",
       "326    94.0                      Depósitos y fianzas recibidos   \n",
       "327   940.0                                Depósitos recibidos   \n",
       "328   941.0                                  Fianzas recibidas   \n",
       "\n",
       "     Crédito inicial del ejercicio  \n",
       "0                      76893259.18  \n",
       "1                       4994977.89  \n",
       "2                       4994977.89  \n",
       "3                             0.00  \n",
       "4                             0.00  \n",
       "..                             ...  \n",
       "324                           0.00  \n",
       "325                           0.00  \n",
       "326                           0.00  \n",
       "327                           0.00  \n",
       "328                           0.00  \n",
       "\n",
       "[329 rows x 3 columns]"
      ]
     },
     "execution_count": 18,
     "metadata": {},
     "output_type": "execute_result"
    }
   ],
   "source": [
    "df"
   ]
  },
  {
   "cell_type": "markdown",
   "metadata": {},
   "source": [
    "## Exploración del DataFrame"
   ]
  },
  {
   "cell_type": "markdown",
   "metadata": {},
   "source": [
    "### Información general\n",
    "A través de `df.info` se presenta la información de la tabla:\n",
    "\n",
    "Según la [página web de Pandas](https://aprendeconalf.es/docencia/python/manual/pandas/), muestra información sobre el DataFrame entre la que incluye el índice (Rangeindex) con el número de entradas, el número de columnas que hay (Data Columns), el nombre de las columnas (Colum), la cantidad de datos nulos que posee la tabla (Non-Null Count), el tipo de variable de las columnas (Dtype) y el tamaño (memory usage)."
   ]
  },
  {
   "cell_type": "code",
   "execution_count": 19,
   "metadata": {},
   "outputs": [
    {
     "name": "stdout",
     "output_type": "stream",
     "text": [
      "<class 'pandas.core.frame.DataFrame'>\n",
      "RangeIndex: 329 entries, 0 to 328\n",
      "Data columns (total 3 columns):\n",
      " #   Column                         Non-Null Count  Dtype  \n",
      "---  ------                         --------------  -----  \n",
      " 0   Código                         329 non-null    float64\n",
      " 1   Nombre                         329 non-null    object \n",
      " 2   Crédito inicial del ejercicio  329 non-null    float64\n",
      "dtypes: float64(2), object(1)\n",
      "memory usage: 7.8+ KB\n"
     ]
    }
   ],
   "source": [
    "df. info()"
   ]
  },
  {
   "cell_type": "markdown",
   "metadata": {},
   "source": [
    "### Cabecera\n",
    "Se emplea `df.head()` para mostrar las primeras entradas de la tabla. Entre paréntesis se pueden indicar cuántas entradas se quieren mostrar. En este caso se exponen cuatro: "
   ]
  },
  {
   "cell_type": "code",
   "execution_count": 43,
   "metadata": {},
   "outputs": [
    {
     "data": {
      "text/html": [
       "<div>\n",
       "<style scoped>\n",
       "    .dataframe tbody tr th:only-of-type {\n",
       "        vertical-align: middle;\n",
       "    }\n",
       "\n",
       "    .dataframe tbody tr th {\n",
       "        vertical-align: top;\n",
       "    }\n",
       "\n",
       "    .dataframe thead th {\n",
       "        text-align: right;\n",
       "    }\n",
       "</style>\n",
       "<table border=\"1\" class=\"dataframe\">\n",
       "  <thead>\n",
       "    <tr style=\"text-align: right;\">\n",
       "      <th></th>\n",
       "      <th>Código</th>\n",
       "      <th>Nombre</th>\n",
       "      <th>Crédito inicial del ejercicio</th>\n",
       "    </tr>\n",
       "  </thead>\n",
       "  <tbody>\n",
       "    <tr>\n",
       "      <th>0</th>\n",
       "      <td>1.0</td>\n",
       "      <td>IMPUESTOS DIRECTOS</td>\n",
       "      <td>76893259.18</td>\n",
       "    </tr>\n",
       "    <tr>\n",
       "      <th>1</th>\n",
       "      <td>10.0</td>\n",
       "      <td>Impuesto sobre la Renta</td>\n",
       "      <td>4994977.89</td>\n",
       "    </tr>\n",
       "    <tr>\n",
       "      <th>2</th>\n",
       "      <td>100.0</td>\n",
       "      <td>Impuestos sobre la Renta de las Personas Físicas</td>\n",
       "      <td>4994977.89</td>\n",
       "    </tr>\n",
       "    <tr>\n",
       "      <th>3</th>\n",
       "      <td>101.0</td>\n",
       "      <td>Impuesto sobre Sociedades</td>\n",
       "      <td>0.00</td>\n",
       "    </tr>\n",
       "  </tbody>\n",
       "</table>\n",
       "</div>"
      ],
      "text/plain": [
       "   Código                                            Nombre  \\\n",
       "0     1.0                                IMPUESTOS DIRECTOS   \n",
       "1    10.0                           Impuesto sobre la Renta   \n",
       "2   100.0  Impuestos sobre la Renta de las Personas Físicas   \n",
       "3   101.0                         Impuesto sobre Sociedades   \n",
       "\n",
       "   Crédito inicial del ejercicio  \n",
       "0                    76893259.18  \n",
       "1                     4994977.89  \n",
       "2                     4994977.89  \n",
       "3                           0.00  "
      ]
     },
     "execution_count": 43,
     "metadata": {},
     "output_type": "execute_result"
    }
   ],
   "source": [
    "df.head(4)"
   ]
  },
  {
   "cell_type": "markdown",
   "metadata": {},
   "source": [
    "### Cola\n",
    "Después, se muestran las últimas entradas de la tabla (tail) mediante `df.tail()`.\n",
    "\n",
    "De nuevo, entre paréntesis se puede especificar el número de entradas que se quieren mostrar. En este caso, se volverá a mostrar cuatro entradas:"
   ]
  },
  {
   "cell_type": "code",
   "execution_count": 44,
   "metadata": {},
   "outputs": [
    {
     "data": {
      "text/html": [
       "<div>\n",
       "<style scoped>\n",
       "    .dataframe tbody tr th:only-of-type {\n",
       "        vertical-align: middle;\n",
       "    }\n",
       "\n",
       "    .dataframe tbody tr th {\n",
       "        vertical-align: top;\n",
       "    }\n",
       "\n",
       "    .dataframe thead th {\n",
       "        text-align: right;\n",
       "    }\n",
       "</style>\n",
       "<table border=\"1\" class=\"dataframe\">\n",
       "  <thead>\n",
       "    <tr style=\"text-align: right;\">\n",
       "      <th></th>\n",
       "      <th>Código</th>\n",
       "      <th>Nombre</th>\n",
       "      <th>Crédito inicial del ejercicio</th>\n",
       "    </tr>\n",
       "  </thead>\n",
       "  <tbody>\n",
       "    <tr>\n",
       "      <th>325</th>\n",
       "      <td>931.0</td>\n",
       "      <td>Préstamos recibidos en moneda distinta del eur...</td>\n",
       "      <td>0.0</td>\n",
       "    </tr>\n",
       "    <tr>\n",
       "      <th>326</th>\n",
       "      <td>94.0</td>\n",
       "      <td>Depósitos y fianzas recibidos</td>\n",
       "      <td>0.0</td>\n",
       "    </tr>\n",
       "    <tr>\n",
       "      <th>327</th>\n",
       "      <td>940.0</td>\n",
       "      <td>Depósitos recibidos</td>\n",
       "      <td>0.0</td>\n",
       "    </tr>\n",
       "    <tr>\n",
       "      <th>328</th>\n",
       "      <td>941.0</td>\n",
       "      <td>Fianzas recibidas</td>\n",
       "      <td>0.0</td>\n",
       "    </tr>\n",
       "  </tbody>\n",
       "</table>\n",
       "</div>"
      ],
      "text/plain": [
       "     Código                                             Nombre  \\\n",
       "325   931.0  Préstamos recibidos en moneda distinta del eur...   \n",
       "326    94.0                      Depósitos y fianzas recibidos   \n",
       "327   940.0                                Depósitos recibidos   \n",
       "328   941.0                                  Fianzas recibidas   \n",
       "\n",
       "     Crédito inicial del ejercicio  \n",
       "325                            0.0  \n",
       "326                            0.0  \n",
       "327                            0.0  \n",
       "328                            0.0  "
      ]
     },
     "execution_count": 44,
     "metadata": {},
     "output_type": "execute_result"
    }
   ],
   "source": [
    "df. tail(4)"
   ]
  },
  {
   "cell_type": "markdown",
   "metadata": {},
   "source": [
    "### Columnas\n",
    "Además, mediante `df.columns` se expone el nombre de las columnas de la tabla:"
   ]
  },
  {
   "cell_type": "code",
   "execution_count": 22,
   "metadata": {
    "scrolled": true
   },
   "outputs": [
    {
     "data": {
      "text/plain": [
       "Index(['Código', 'Nombre', 'Crédito inicial del ejercicio'], dtype='object')"
      ]
     },
     "execution_count": 22,
     "metadata": {},
     "output_type": "execute_result"
    }
   ],
   "source": [
    "df.columns"
   ]
  },
  {
   "cell_type": "markdown",
   "metadata": {},
   "source": [
    "También se pueden mostrar columnas concretas mediante `df['nombre de la columna']`.\n",
    "\n",
    "A continuación, se ejemplifica lo comentado mediante la columna \"Crédito inicial del ejercicio\"."
   ]
  },
  {
   "cell_type": "code",
   "execution_count": 25,
   "metadata": {},
   "outputs": [
    {
     "data": {
      "text/plain": [
       "0      76893259.18\n",
       "1       4994977.89\n",
       "2       4994977.89\n",
       "3             0.00\n",
       "4             0.00\n",
       "          ...     \n",
       "324           0.00\n",
       "325           0.00\n",
       "326           0.00\n",
       "327           0.00\n",
       "328           0.00\n",
       "Name: Crédito inicial del ejercicio, Length: 329, dtype: float64"
      ]
     },
     "execution_count": 25,
     "metadata": {},
     "output_type": "execute_result"
    }
   ],
   "source": [
    "df['Crédito inicial del ejercicio']"
   ]
  },
  {
   "cell_type": "markdown",
   "metadata": {},
   "source": [
    "Además, se puede mostrar una fila en concreto de la columna especificada. Esto se realiza añadiendo el número de dicha fila a continuación del nombre. En este caso se muestra la fila número dos:"
   ]
  },
  {
   "cell_type": "code",
   "execution_count": 28,
   "metadata": {},
   "outputs": [
    {
     "data": {
      "text/plain": [
       "4994977.89"
      ]
     },
     "execution_count": 28,
     "metadata": {},
     "output_type": "execute_result"
    }
   ],
   "source": [
    "df['Crédito inicial del ejercicio'][2]"
   ]
  },
  {
   "cell_type": "markdown",
   "metadata": {},
   "source": [
    "## Demostración de las variables estadísticas\n",
    "Mediante `df.describe()` se muestran las variables estadísticas del DataFrame, algo que no se muestra normalmente:"
   ]
  },
  {
   "cell_type": "code",
   "execution_count": 29,
   "metadata": {},
   "outputs": [
    {
     "data": {
      "text/html": [
       "<div>\n",
       "<style scoped>\n",
       "    .dataframe tbody tr th:only-of-type {\n",
       "        vertical-align: middle;\n",
       "    }\n",
       "\n",
       "    .dataframe tbody tr th {\n",
       "        vertical-align: top;\n",
       "    }\n",
       "\n",
       "    .dataframe thead th {\n",
       "        text-align: right;\n",
       "    }\n",
       "</style>\n",
       "<table border=\"1\" class=\"dataframe\">\n",
       "  <thead>\n",
       "    <tr style=\"text-align: right;\">\n",
       "      <th></th>\n",
       "      <th>Código</th>\n",
       "      <th>Crédito inicial del ejercicio</th>\n",
       "    </tr>\n",
       "  </thead>\n",
       "  <tbody>\n",
       "    <tr>\n",
       "      <th>count</th>\n",
       "      <td>329.000000</td>\n",
       "      <td>3.290000e+02</td>\n",
       "    </tr>\n",
       "    <tr>\n",
       "      <th>mean</th>\n",
       "      <td>403.929514</td>\n",
       "      <td>1.309417e+06</td>\n",
       "    </tr>\n",
       "    <tr>\n",
       "      <th>std</th>\n",
       "      <td>275.541759</td>\n",
       "      <td>6.444360e+06</td>\n",
       "    </tr>\n",
       "    <tr>\n",
       "      <th>min</th>\n",
       "      <td>1.000000</td>\n",
       "      <td>0.000000e+00</td>\n",
       "    </tr>\n",
       "    <tr>\n",
       "      <th>25%</th>\n",
       "      <td>115.000000</td>\n",
       "      <td>0.000000e+00</td>\n",
       "    </tr>\n",
       "    <tr>\n",
       "      <th>50%</th>\n",
       "      <td>394.000000</td>\n",
       "      <td>0.000000e+00</td>\n",
       "    </tr>\n",
       "    <tr>\n",
       "      <th>75%</th>\n",
       "      <td>600.000000</td>\n",
       "      <td>1.560000e+01</td>\n",
       "    </tr>\n",
       "    <tr>\n",
       "      <th>max</th>\n",
       "      <td>941.000000</td>\n",
       "      <td>7.689326e+07</td>\n",
       "    </tr>\n",
       "  </tbody>\n",
       "</table>\n",
       "</div>"
      ],
      "text/plain": [
       "           Código  Crédito inicial del ejercicio\n",
       "count  329.000000                   3.290000e+02\n",
       "mean   403.929514                   1.309417e+06\n",
       "std    275.541759                   6.444360e+06\n",
       "min      1.000000                   0.000000e+00\n",
       "25%    115.000000                   0.000000e+00\n",
       "50%    394.000000                   0.000000e+00\n",
       "75%    600.000000                   1.560000e+01\n",
       "max    941.000000                   7.689326e+07"
      ]
     },
     "execution_count": 29,
     "metadata": {},
     "output_type": "execute_result"
    }
   ],
   "source": [
    "df.describe()"
   ]
  },
  {
   "cell_type": "markdown",
   "metadata": {},
   "source": [
    "### Indexar el DataFrame según una columna\n",
    "También es posible indexar -ordenar los datos- en función de una columna a través de `df.set_index('')`\n",
    "\n",
    "En este caso, se indexa el DataFrame según la columna \"Nombre\":"
   ]
  },
  {
   "cell_type": "code",
   "execution_count": 30,
   "metadata": {
    "scrolled": true
   },
   "outputs": [
    {
     "data": {
      "text/html": [
       "<div>\n",
       "<style scoped>\n",
       "    .dataframe tbody tr th:only-of-type {\n",
       "        vertical-align: middle;\n",
       "    }\n",
       "\n",
       "    .dataframe tbody tr th {\n",
       "        vertical-align: top;\n",
       "    }\n",
       "\n",
       "    .dataframe thead th {\n",
       "        text-align: right;\n",
       "    }\n",
       "</style>\n",
       "<table border=\"1\" class=\"dataframe\">\n",
       "  <thead>\n",
       "    <tr style=\"text-align: right;\">\n",
       "      <th></th>\n",
       "      <th>Código</th>\n",
       "      <th>Crédito inicial del ejercicio</th>\n",
       "    </tr>\n",
       "    <tr>\n",
       "      <th>Nombre</th>\n",
       "      <th></th>\n",
       "      <th></th>\n",
       "    </tr>\n",
       "  </thead>\n",
       "  <tbody>\n",
       "    <tr>\n",
       "      <th>IMPUESTOS DIRECTOS</th>\n",
       "      <td>1.0</td>\n",
       "      <td>76893259.18</td>\n",
       "    </tr>\n",
       "    <tr>\n",
       "      <th>Impuesto sobre la Renta</th>\n",
       "      <td>10.0</td>\n",
       "      <td>4994977.89</td>\n",
       "    </tr>\n",
       "    <tr>\n",
       "      <th>Impuestos sobre la Renta de las Personas Físicas</th>\n",
       "      <td>100.0</td>\n",
       "      <td>4994977.89</td>\n",
       "    </tr>\n",
       "    <tr>\n",
       "      <th>Impuesto sobre Sociedades</th>\n",
       "      <td>101.0</td>\n",
       "      <td>0.00</td>\n",
       "    </tr>\n",
       "    <tr>\n",
       "      <th>Impuesto sobre la Renta de No Residentes</th>\n",
       "      <td>102.0</td>\n",
       "      <td>0.00</td>\n",
       "    </tr>\n",
       "    <tr>\n",
       "      <th>...</th>\n",
       "      <td>...</td>\n",
       "      <td>...</td>\n",
       "    </tr>\n",
       "    <tr>\n",
       "      <th>Préstamos recibidos en moneda distinta del euro a corto plazo</th>\n",
       "      <td>930.0</td>\n",
       "      <td>0.00</td>\n",
       "    </tr>\n",
       "    <tr>\n",
       "      <th>Préstamos recibidos en moneda distinta del euro a largo plazo</th>\n",
       "      <td>931.0</td>\n",
       "      <td>0.00</td>\n",
       "    </tr>\n",
       "    <tr>\n",
       "      <th>Depósitos y fianzas recibidos</th>\n",
       "      <td>94.0</td>\n",
       "      <td>0.00</td>\n",
       "    </tr>\n",
       "    <tr>\n",
       "      <th>Depósitos recibidos</th>\n",
       "      <td>940.0</td>\n",
       "      <td>0.00</td>\n",
       "    </tr>\n",
       "    <tr>\n",
       "      <th>Fianzas recibidas</th>\n",
       "      <td>941.0</td>\n",
       "      <td>0.00</td>\n",
       "    </tr>\n",
       "  </tbody>\n",
       "</table>\n",
       "<p>329 rows × 2 columns</p>\n",
       "</div>"
      ],
      "text/plain": [
       "                                                    Código  \\\n",
       "Nombre                                                       \n",
       "IMPUESTOS DIRECTOS                                     1.0   \n",
       "Impuesto sobre la Renta                               10.0   \n",
       "Impuestos sobre la Renta de las Personas Físicas     100.0   \n",
       "Impuesto sobre Sociedades                            101.0   \n",
       "Impuesto sobre la Renta de No Residentes             102.0   \n",
       "...                                                    ...   \n",
       "Préstamos recibidos en moneda distinta del euro...   930.0   \n",
       "Préstamos recibidos en moneda distinta del euro...   931.0   \n",
       "Depósitos y fianzas recibidos                         94.0   \n",
       "Depósitos recibidos                                  940.0   \n",
       "Fianzas recibidas                                    941.0   \n",
       "\n",
       "                                                    Crédito inicial del ejercicio  \n",
       "Nombre                                                                             \n",
       "IMPUESTOS DIRECTOS                                                    76893259.18  \n",
       "Impuesto sobre la Renta                                                4994977.89  \n",
       "Impuestos sobre la Renta de las Personas Físicas                       4994977.89  \n",
       "Impuesto sobre Sociedades                                                    0.00  \n",
       "Impuesto sobre la Renta de No Residentes                                     0.00  \n",
       "...                                                                           ...  \n",
       "Préstamos recibidos en moneda distinta del euro...                           0.00  \n",
       "Préstamos recibidos en moneda distinta del euro...                           0.00  \n",
       "Depósitos y fianzas recibidos                                                0.00  \n",
       "Depósitos recibidos                                                          0.00  \n",
       "Fianzas recibidas                                                            0.00  \n",
       "\n",
       "[329 rows x 2 columns]"
      ]
     },
     "execution_count": 30,
     "metadata": {},
     "output_type": "execute_result"
    }
   ],
   "source": [
    "df.set_index('Nombre')"
   ]
  },
  {
   "cell_type": "markdown",
   "metadata": {},
   "source": [
    "Lo mismo ocurre indexando la variable \"Crédito inicial del ejercicio\":"
   ]
  },
  {
   "cell_type": "code",
   "execution_count": 32,
   "metadata": {},
   "outputs": [
    {
     "data": {
      "text/plain": [
       "Nombre\n",
       "IMPUESTOS DIRECTOS                                               76893259.18\n",
       "Impuesto sobre la Renta                                           4994977.89\n",
       "Impuestos sobre la Renta de las Personas Físicas                  4994977.89\n",
       "Impuesto sobre Sociedades                                               0.00\n",
       "Impuesto sobre la Renta de No Residentes                                0.00\n",
       "                                                                    ...     \n",
       "Préstamos recibidos en moneda distinta del euro a corto plazo           0.00\n",
       "Préstamos recibidos en moneda distinta del euro a largo plazo           0.00\n",
       "Depósitos y fianzas recibidos                                           0.00\n",
       "Depósitos recibidos                                                     0.00\n",
       "Fianzas recibidas                                                       0.00\n",
       "Name: Crédito inicial del ejercicio, Length: 329, dtype: float64"
      ]
     },
     "execution_count": 32,
     "metadata": {},
     "output_type": "execute_result"
    }
   ],
   "source": [
    "df.set_index('Nombre')['Crédito inicial del ejercicio']"
   ]
  },
  {
   "cell_type": "markdown",
   "metadata": {},
   "source": [
    "## Creación de un gráfico a partir de \"Nombre\" y \"Crédito inicial del ejercicio\"\n",
    "Una vez indexados los datos según \"Nombre\" y \"Crédito inicial del ejercicio\", mediante `.plot` se presentan los datos en un gráfico. A continuación, para añadir un título al gráfico, lo hacemos a través de `title` como argumento de `.plot`: "
   ]
  },
  {
   "cell_type": "code",
   "execution_count": 34,
   "metadata": {},
   "outputs": [
    {
     "data": {
      "text/plain": [
       "<AxesSubplot:title={'center':'Crédito inicial del ejercicio'}, xlabel='Nombre'>"
      ]
     },
     "execution_count": 34,
     "metadata": {},
     "output_type": "execute_result"
    },
    {
     "data": {
      "image/png": "[encoded data removed]",
      "text/plain": [
       "<Figure size 432x288 with 1 Axes>"
      ]
     },
     "metadata": {
      "needs_background": "light"
     },
     "output_type": "display_data"
    }
   ],
   "source": [
    "df.set_index('Nombre')['Crédito inicial del ejercicio'].plot(title=\"Crédito inicial del ejercicio\")"
   ]
  },
  {
   "cell_type": "markdown",
   "metadata": {},
   "source": [
    "Debido a la longitud de las etiquetas de \"Nombre\", no se puede distinguir a qué nombre corresponde cada dato en el gráfico."
   ]
  },
  {
   "cell_type": "markdown",
   "metadata": {},
   "source": [
    "### Creación de otro gráfico a partir de \"Nombre\" y \"Código\"\n",
    "En esta ocasión se va a indexar el DataFrame según las variables \"Nombre\" y \"Código\":"
   ]
  },
  {
   "cell_type": "code",
   "execution_count": 36,
   "metadata": {},
   "outputs": [
    {
     "data": {
      "text/plain": [
       "Nombre\n",
       "IMPUESTOS DIRECTOS                                                 1.0\n",
       "Impuesto sobre la Renta                                           10.0\n",
       "Impuestos sobre la Renta de las Personas Físicas                 100.0\n",
       "Impuesto sobre Sociedades                                        101.0\n",
       "Impuesto sobre la Renta de No Residentes                         102.0\n",
       "                                                                 ...  \n",
       "Préstamos recibidos en moneda distinta del euro a corto plazo    930.0\n",
       "Préstamos recibidos en moneda distinta del euro a largo plazo    931.0\n",
       "Depósitos y fianzas recibidos                                     94.0\n",
       "Depósitos recibidos                                              940.0\n",
       "Fianzas recibidas                                                941.0\n",
       "Name: Código, Length: 329, dtype: float64"
      ]
     },
     "execution_count": 36,
     "metadata": {},
     "output_type": "execute_result"
    }
   ],
   "source": [
    "df.set_index('Nombre')['Código']"
   ]
  },
  {
   "cell_type": "markdown",
   "metadata": {},
   "source": [
    "### Creación de un gráfico a partir de \"Nombre\" y \"Código\"\n",
    "Una vez indexados los datos según \"Nombre\" y \"Código\", mediante `.plot` se muestran los datos en un gráfico. Además, al igual que se ha realizado anteriormente, se añade `title=` como argumento de `.plot` para poner un título al gráfico:"
   ]
  },
  {
   "cell_type": "code",
   "execution_count": 37,
   "metadata": {},
   "outputs": [
    {
     "data": {
      "text/plain": [
       "<AxesSubplot:title={'center':'Códigos'}, xlabel='Nombre'>"
      ]
     },
     "execution_count": 37,
     "metadata": {},
     "output_type": "execute_result"
    },
    {
     "data": {
      "image/png": "[encoded data removed]",
      "text/plain": [
       "<Figure size 432x288 with 1 Axes>"
      ]
     },
     "metadata": {
      "needs_background": "light"
     },
     "output_type": "display_data"
    }
   ],
   "source": [
    "df.set_index('Nombre')['Código'].plot(title=\"Códigos\")"
   ]
  },
  {
   "cell_type": "markdown",
   "metadata": {},
   "source": [
    "Al igual que en el anterior gráfico, debido a la longitud de las etiquetas de \"Nombre\" no se puede distinguir a qué nombre corresponde cada dato del gráfico."
   ]
  },
  {
   "cell_type": "markdown",
   "metadata": {},
   "source": [
    "### Comparación de Código y Crédito inicial del ejercicio\n",
    "A continuación, se van a comparar los \"codigos\" y los \"créditos iniciales del ejercicio\" en base al \"Nombre\". \n",
    "\n",
    "Se definen dos nuevas variables, una para cada variable:"
   ]
  },
  {
   "cell_type": "code",
   "execution_count": 38,
   "metadata": {},
   "outputs": [],
   "source": [
    "nombre_credit = df.set_index('Nombre')['Crédito inicial del ejercicio']\n",
    "nombre_codig = df.set_index('Nombre')['Código']"
   ]
  },
  {
   "cell_type": "markdown",
   "metadata": {},
   "source": [
    "Antes de crear un DataFrame y un gráfico con estos datos, es necesario concatenarlos mediante `vs`:"
   ]
  },
  {
   "cell_type": "code",
   "execution_count": 39,
   "metadata": {},
   "outputs": [
    {
     "data": {
      "text/html": [
       "<div>\n",
       "<style scoped>\n",
       "    .dataframe tbody tr th:only-of-type {\n",
       "        vertical-align: middle;\n",
       "    }\n",
       "\n",
       "    .dataframe tbody tr th {\n",
       "        vertical-align: top;\n",
       "    }\n",
       "\n",
       "    .dataframe thead th {\n",
       "        text-align: right;\n",
       "    }\n",
       "</style>\n",
       "<table border=\"1\" class=\"dataframe\">\n",
       "  <thead>\n",
       "    <tr style=\"text-align: right;\">\n",
       "      <th></th>\n",
       "      <th>Crédito inicial del ejercicio</th>\n",
       "      <th>Código</th>\n",
       "    </tr>\n",
       "    <tr>\n",
       "      <th>Nombre</th>\n",
       "      <th></th>\n",
       "      <th></th>\n",
       "    </tr>\n",
       "  </thead>\n",
       "  <tbody>\n",
       "    <tr>\n",
       "      <th>IMPUESTOS DIRECTOS</th>\n",
       "      <td>76893259.18</td>\n",
       "      <td>1.0</td>\n",
       "    </tr>\n",
       "    <tr>\n",
       "      <th>Impuesto sobre la Renta</th>\n",
       "      <td>4994977.89</td>\n",
       "      <td>10.0</td>\n",
       "    </tr>\n",
       "    <tr>\n",
       "      <th>Impuestos sobre la Renta de las Personas Físicas</th>\n",
       "      <td>4994977.89</td>\n",
       "      <td>100.0</td>\n",
       "    </tr>\n",
       "    <tr>\n",
       "      <th>Impuesto sobre Sociedades</th>\n",
       "      <td>0.00</td>\n",
       "      <td>101.0</td>\n",
       "    </tr>\n",
       "    <tr>\n",
       "      <th>Impuesto sobre la Renta de No Residentes</th>\n",
       "      <td>0.00</td>\n",
       "      <td>102.0</td>\n",
       "    </tr>\n",
       "    <tr>\n",
       "      <th>...</th>\n",
       "      <td>...</td>\n",
       "      <td>...</td>\n",
       "    </tr>\n",
       "    <tr>\n",
       "      <th>Préstamos recibidos en moneda distinta del euro a corto plazo</th>\n",
       "      <td>0.00</td>\n",
       "      <td>930.0</td>\n",
       "    </tr>\n",
       "    <tr>\n",
       "      <th>Préstamos recibidos en moneda distinta del euro a largo plazo</th>\n",
       "      <td>0.00</td>\n",
       "      <td>931.0</td>\n",
       "    </tr>\n",
       "    <tr>\n",
       "      <th>Depósitos y fianzas recibidos</th>\n",
       "      <td>0.00</td>\n",
       "      <td>94.0</td>\n",
       "    </tr>\n",
       "    <tr>\n",
       "      <th>Depósitos recibidos</th>\n",
       "      <td>0.00</td>\n",
       "      <td>940.0</td>\n",
       "    </tr>\n",
       "    <tr>\n",
       "      <th>Fianzas recibidas</th>\n",
       "      <td>0.00</td>\n",
       "      <td>941.0</td>\n",
       "    </tr>\n",
       "  </tbody>\n",
       "</table>\n",
       "<p>329 rows × 2 columns</p>\n",
       "</div>"
      ],
      "text/plain": [
       "                                                    Crédito inicial del ejercicio  \\\n",
       "Nombre                                                                              \n",
       "IMPUESTOS DIRECTOS                                                    76893259.18   \n",
       "Impuesto sobre la Renta                                                4994977.89   \n",
       "Impuestos sobre la Renta de las Personas Físicas                       4994977.89   \n",
       "Impuesto sobre Sociedades                                                    0.00   \n",
       "Impuesto sobre la Renta de No Residentes                                     0.00   \n",
       "...                                                                           ...   \n",
       "Préstamos recibidos en moneda distinta del euro...                           0.00   \n",
       "Préstamos recibidos en moneda distinta del euro...                           0.00   \n",
       "Depósitos y fianzas recibidos                                                0.00   \n",
       "Depósitos recibidos                                                          0.00   \n",
       "Fianzas recibidas                                                            0.00   \n",
       "\n",
       "                                                    Código  \n",
       "Nombre                                                      \n",
       "IMPUESTOS DIRECTOS                                     1.0  \n",
       "Impuesto sobre la Renta                               10.0  \n",
       "Impuestos sobre la Renta de las Personas Físicas     100.0  \n",
       "Impuesto sobre Sociedades                            101.0  \n",
       "Impuesto sobre la Renta de No Residentes             102.0  \n",
       "...                                                    ...  \n",
       "Préstamos recibidos en moneda distinta del euro...   930.0  \n",
       "Préstamos recibidos en moneda distinta del euro...   931.0  \n",
       "Depósitos y fianzas recibidos                         94.0  \n",
       "Depósitos recibidos                                  940.0  \n",
       "Fianzas recibidas                                    941.0  \n",
       "\n",
       "[329 rows x 2 columns]"
      ]
     },
     "execution_count": 39,
     "metadata": {},
     "output_type": "execute_result"
    }
   ],
   "source": [
    "vs = pd.concat([nombre_credit,nombre_codig],axis=1)\n",
    "vs"
   ]
  },
  {
   "cell_type": "markdown",
   "metadata": {},
   "source": [
    "### Creación de un gráfico de comparación\n",
    "Una vez concatenados los datos de ambas variables, se puede elaborar un gráfico de comparación con ellos:"
   ]
  },
  {
   "cell_type": "code",
   "execution_count": 41,
   "metadata": {},
   "outputs": [
    {
     "data": {
      "text/plain": [
       "<AxesSubplot:title={'center':'Código vs Crédito Inicial'}, xlabel='Nombre'>"
      ]
     },
     "execution_count": 41,
     "metadata": {},
     "output_type": "execute_result"
    },
    {
     "data": {
      "image/png": "[encoded data removed]",
      "text/plain": [
       "<Figure size 432x288 with 1 Axes>"
      ]
     },
     "metadata": {
      "needs_background": "light"
     },
     "output_type": "display_data"
    }
   ],
   "source": [
    "vs.columns =['Crédito inicial del ejercicio','Código']\n",
    "vs.plot(title=\"Código vs Crédito Inicial\")"
   ]
  },
  {
   "cell_type": "markdown",
   "metadata": {},
   "source": [
    "### Guardamos en un csv\n",
    "Por último, se guarda todo lo realizado en un archivo csv:"
   ]
  },
  {
   "cell_type": "code",
   "execution_count": 47,
   "metadata": {},
   "outputs": [],
   "source": [
    "vs.to_csv('ingresos.csv')"
   ]
  },
  {
   "cell_type": "markdown",
   "metadata": {},
   "source": [
    "Se comprueba que el archivo se ha creado mediante `ls`, y como este es un comando de bash, se indica `!` par poder utilizarlo:"
   ]
  },
  {
   "cell_type": "code",
   "execution_count": 49,
   "metadata": {},
   "outputs": [
    {
     "name": "stdout",
     "output_type": "stream",
     "text": [
      "api-pandas-folium.ipynb  phyton-pruebas.ipynb\t\t  Shared_Resources\r\n",
      "escit.png\t\t python-api-covid-pandas.ipynb\t  Untitled.ipynb\r\n",
      "esvit.csv\t\t python-csv-farolas-pandas.ipynb\r\n",
      "ingresos.csv\t\t seaborn-data\r\n"
     ]
    }
   ],
   "source": [
    "!ls"
   ]
  },
  {
   "cell_type": "markdown",
   "metadata": {},
   "source": [
    "Se importa matplotlib.pyplot (Según [Aprende con Alf](https://aprendeconalf.es/docencia/python/manual/matplotlib/) Matplotlib.pyplot es una librería de Python especializada en la creación de gráficos en dos dimensiones. Permite crear y personalizar los tipos de gráficos más comunes, entre ellos: Diagramas de barras) y se redefine como plt.\n",
    "\n",
    "También se guarda el gráfico:"
   ]
  },
  {
   "cell_type": "code",
   "execution_count": 50,
   "metadata": {},
   "outputs": [
    {
     "data": {
      "image/png": "[encoded data removed]",
      "text/plain": [
       "<Figure size 432x288 with 1 Axes>"
      ]
     },
     "metadata": {
      "needs_background": "light"
     },
     "output_type": "display_data"
    }
   ],
   "source": [
    "import matplotlib.pyplot as plt \n",
    "vs.plot()\n",
    "plt.savefig('ingresos.png')"
   ]
  }
 ],
 "metadata": {
  "kernelspec": {
   "display_name": "Python 3",
   "language": "python",
   "name": "python3"
  },
  "language_info": {
   "codemirror_mode": {
    "name": "ipython",
    "version": 3
   },
   "file_extension": ".py",
   "mimetype": "text/x-python",
   "name": "python",
   "nbconvert_exporter": "python",
   "pygments_lexer": "ipython3",
   "version": "3.8.10"
  }
 },
 "nbformat": 4,
 "nbformat_minor": 4
}
